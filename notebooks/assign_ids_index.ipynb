{
 "cells": [
  {
   "cell_type": "code",
   "execution_count": null,
   "id": "972dda2b",
   "metadata": {},
   "outputs": [],
   "source": [
    "import numpy as np\n",
    "import pandas as pd\n",
    "from sklearn.cluster import DBSCAN, KMeans"
   ]
  },
  {
   "cell_type": "code",
   "execution_count": null,
   "id": "bf450d69",
   "metadata": {},
   "outputs": [],
   "source": [
    "import torch\n",
    "import torch.nn as nn\n",
    "import torch.nn.functional as F"
   ]
  },
  {
   "cell_type": "code",
   "execution_count": null,
   "id": "980d96db",
   "metadata": {},
   "outputs": [],
   "source": [
    "from collections import Counter\n",
    "from tqdm import tqdm"
   ]
  },
  {
   "cell_type": "code",
   "execution_count": null,
   "id": "ff53c756",
   "metadata": {},
   "outputs": [],
   "source": [
    "import matplotlib.pyplot as plt\n",
    "from PIL import Image"
   ]
  },
  {
   "cell_type": "code",
   "execution_count": null,
   "id": "aa5e4be4",
   "metadata": {},
   "outputs": [],
   "source": [
    "anno = pd.read_csv(\"../data/eBay/metadata/index.csv\").to_dict()"
   ]
  },
  {
   "cell_type": "code",
   "execution_count": null,
   "id": "e9fee8a7",
   "metadata": {},
   "outputs": [],
   "source": [
    "paths = list(anno[\"IMAGE_PATH\"].values())"
   ]
  },
  {
   "cell_type": "code",
   "execution_count": null,
   "id": "df936090",
   "metadata": {},
   "outputs": [],
   "source": [
    "labels = np.load(\"index_in22k_labels.npy\")"
   ]
  },
  {
   "cell_type": "code",
   "execution_count": null,
   "id": "d92def38",
   "metadata": {},
   "outputs": [],
   "source": [
    "image_feats = np.load(\"index_convnext384_feats.npy\")"
   ]
  },
  {
   "cell_type": "code",
   "execution_count": null,
   "id": "958cd077",
   "metadata": {},
   "outputs": [],
   "source": [
    "label_freq = Counter(labels)"
   ]
  },
  {
   "cell_type": "code",
   "execution_count": null,
   "id": "a89c4de3",
   "metadata": {},
   "outputs": [],
   "source": [
    "label_freq.most_common()"
   ]
  },
  {
   "cell_type": "code",
   "execution_count": null,
   "id": "34225b52",
   "metadata": {},
   "outputs": [],
   "source": [
    "class_index = np.where(labels == 10928)[0]"
   ]
  },
  {
   "cell_type": "code",
   "execution_count": null,
   "id": "529aa10f",
   "metadata": {},
   "outputs": [],
   "source": [
    "selected_image_feats = image_feats[class_index]"
   ]
  },
  {
   "cell_type": "code",
   "execution_count": null,
   "id": "da8ad844",
   "metadata": {},
   "outputs": [],
   "source": [
    "def dbscan(eps, feats):\n",
    "    cluster = DBSCAN(eps=eps, min_samples=1, metric='cosine', n_jobs=-1)\n",
    "    return cluster.fit_predict(feats)\n",
    "\n",
    "def get_large_cluster(predict_labels, threshold=10):\n",
    "    large_cluster = []\n",
    "    for cluster_label, freq in Counter(predict_labels).most_common():\n",
    "        if freq > threshold:\n",
    "            large_cluster.append(cluster_label)\n",
    "        else:\n",
    "            break\n",
    "    return large_cluster\n",
    "\n",
    "def hierarchical_cluster(maintain_labels, predict_labels, feats, eps=0.5):\n",
    "    large_cluster = get_large_cluster(predict_labels)\n",
    "    for c in large_cluster:\n",
    "        cluster_index = np.where(predict_labels == c)[0]\n",
    "        new_feats = feats[cluster_index]\n",
    "        new_predict_labels = dbscan(eps, new_feats)\n",
    "        new_maintain_labels = [\"\"] * len(cluster_index)\n",
    "        for i, idx in enumerate(cluster_index):\n",
    "            new_maintain_labels[i] += maintain_labels[idx] + \".\" + str(new_predict_labels[i])\n",
    "        if eps > 0.01:\n",
    "            new_maintain_labels = hierarchical_cluster(new_maintain_labels, new_predict_labels, new_feats, eps-0.01)\n",
    "        for i, idx in enumerate(cluster_index):\n",
    "            maintain_labels[idx] = new_maintain_labels[i]\n",
    "    return maintain_labels\n",
    "    \n",
    "def do_cluster(selected_image_feats, eps=0.5):\n",
    "    predict_labels = dbscan(eps, selected_image_feats)\n",
    "    maintain_labels = [str(x) for x in predict_labels]\n",
    "    maintain_labels = hierarchical_cluster(maintain_labels, predict_labels, selected_image_feats, eps-0.1)\n",
    "    label_set = set(maintain_labels)\n",
    "    reassign_dict = dict(zip(set(label_set), range(len(label_set))))\n",
    "    predict_labels = [reassign_dict[x] for x in maintain_labels]\n",
    "    return np.array(predict_labels)"
   ]
  },
  {
   "cell_type": "code",
   "execution_count": null,
   "id": "f99c7343",
   "metadata": {},
   "outputs": [],
   "source": [
    "predict_labels = do_cluster(selected_image_feats)"
   ]
  },
  {
   "cell_type": "code",
   "execution_count": null,
   "id": "890c12e3",
   "metadata": {},
   "outputs": [],
   "source": [
    "Counter(predict_labels).most_common()"
   ]
  },
  {
   "cell_type": "code",
   "execution_count": null,
   "id": "9c75a774",
   "metadata": {},
   "outputs": [],
   "source": [
    "show_predict_label = 100\n",
    "show_index_index = np.where(predict_labels == show_predict_label)[0]\n",
    "show_index = class_index[show_index_index]\n",
    "\n",
    "for idx in show_index[:10]:\n",
    "    image = Image.open(\"../data/eBay/Images/\" + paths[idx])\n",
    "    plt.figure()\n",
    "    plt.imshow(image)"
   ]
  },
  {
   "cell_type": "code",
   "execution_count": null,
   "id": "79d38fb3",
   "metadata": {},
   "outputs": [],
   "source": [
    "all_labels = [\"\"] * len(image_feats)\n",
    "for class_name, freq in tqdm(label_freq.most_common()):\n",
    "    class_index = np.where(labels == class_name)[0]\n",
    "    selected_image_feats = image_feats[class_index]\n",
    "    predict_labels = do_cluster(selected_image_feats)\n",
    "    for i, idx in enumerate(class_index):\n",
    "        all_labels[idx] += str(class_name) + \".\" + str(predict_labels[i])"
   ]
  },
  {
   "cell_type": "code",
   "execution_count": null,
   "id": "b7ffc3bc",
   "metadata": {},
   "outputs": [],
   "source": [
    "label_set = set(all_labels)\n",
    "reassign_dict = dict(zip(set(label_set), range(len(label_set))))\n",
    "reassign_all_labels = np.array([reassign_dict[x] for x in all_labels])"
   ]
  },
  {
   "cell_type": "code",
   "execution_count": null,
   "id": "94023830",
   "metadata": {},
   "outputs": [],
   "source": [
    "Counter(reassign_all_labels).most_common()"
   ]
  },
  {
   "cell_type": "code",
   "execution_count": null,
   "id": "71226490",
   "metadata": {},
   "outputs": [],
   "source": [
    "show_predict_label = 733912\n",
    "show_index = np.where(reassign_all_labels == show_predict_label)[0]\n",
    "\n",
    "for idx in show_index[:10]:\n",
    "    image = Image.open(\"../data/eBay/Images/\" + paths[idx])\n",
    "    plt.figure()\n",
    "    plt.imshow(image)"
   ]
  },
  {
   "cell_type": "code",
   "execution_count": null,
   "id": "73798f2b",
   "metadata": {},
   "outputs": [],
   "source": [
    "all_labels_freq = Counter(reassign_all_labels).most_common()\n",
    "all_freq = [x[1] for x in all_labels_freq]"
   ]
  },
  {
   "cell_type": "code",
   "execution_count": null,
   "id": "ab9892a3",
   "metadata": {},
   "outputs": [],
   "source": [
    "Counter(all_freq).most_common()"
   ]
  },
  {
   "cell_type": "code",
   "execution_count": null,
   "id": "6143962d",
   "metadata": {},
   "outputs": [],
   "source": [
    "np.save(\"pseudo_index_ids.npy\", reassign_all_labels)"
   ]
  },
  {
   "cell_type": "code",
   "execution_count": null,
   "id": "1978dadb",
   "metadata": {},
   "outputs": [],
   "source": []
  }
 ],
 "metadata": {
  "kernelspec": {
   "display_name": "Python 3 (ipykernel)",
   "language": "python",
   "name": "python3"
  },
  "language_info": {
   "codemirror_mode": {
    "name": "ipython",
    "version": 3
   },
   "file_extension": ".py",
   "mimetype": "text/x-python",
   "name": "python",
   "nbconvert_exporter": "python",
   "pygments_lexer": "ipython3",
   "version": "3.8.12"
  }
 },
 "nbformat": 4,
 "nbformat_minor": 5
}
