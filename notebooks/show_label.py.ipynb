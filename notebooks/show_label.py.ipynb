{
 "cells": [
  {
   "cell_type": "code",
   "execution_count": null,
   "id": "4a8c26c6",
   "metadata": {},
   "outputs": [],
   "source": [
    "import numpy as np\n",
    "import pandas as pd\n",
    "import torch\n",
    "import matplotlib.pyplot as plt\n",
    "\n",
    "from PIL import Image\n",
    "from nltk.corpus import wordnet as wn"
   ]
  },
  {
   "cell_type": "code",
   "execution_count": null,
   "id": "f4253ed4",
   "metadata": {},
   "outputs": [],
   "source": [
    "wordnet_ids = open(\"imagenet21k_wordnet_lemmas.txt\", \"r\").readlines()\n",
    "wordnet_ids = [x.strip() for x in wordnet_ids]\n",
    "# wordnet_ids = [int(x[1:]) for x in wordnet_ids]"
   ]
  },
  {
   "cell_type": "code",
   "execution_count": null,
   "id": "620db6dd",
   "metadata": {},
   "outputs": [],
   "source": [
    "part = \"index\"\n",
    "anno = pd.read_csv(f\"../data/eBay/metadata/{part}.csv\").to_dict()\n",
    "labels = np.load(f\"{part}_in22k_labels.npy\")"
   ]
  },
  {
   "cell_type": "code",
   "execution_count": null,
   "id": "40bfafc0",
   "metadata": {},
   "outputs": [],
   "source": [
    "Counter(labels).most_common()"
   ]
  },
  {
   "cell_type": "code",
   "execution_count": null,
   "id": "47a95e97",
   "metadata": {},
   "outputs": [],
   "source": [
    "class_idx = 8611\n",
    "# print(wn.synset_from_pos_and_offset('n', wordnet_ids[labels[idx]]))\n",
    "print(wordnet_ids[class_idx])\n",
    "\n",
    "selected_idx = np.where(labels == class_idx)[0]\n",
    "\n",
    "for idx in selected_idx[:10]:\n",
    "    img_loc = \"../data/eBay/Images/\" + anno[\"IMAGE_PATH\"][idx]\n",
    "    image = Image.open(img_loc).convert(\"RGB\")\n",
    "    plt.figure()\n",
    "    plt.imshow(image)"
   ]
  },
  {
   "cell_type": "code",
   "execution_count": null,
   "id": "0f750948",
   "metadata": {},
   "outputs": [],
   "source": []
  }
 ],
 "metadata": {
  "kernelspec": {
   "display_name": "Python 3 (ipykernel)",
   "language": "python",
   "name": "python3"
  },
  "language_info": {
   "codemirror_mode": {
    "name": "ipython",
    "version": 3
   },
   "file_extension": ".py",
   "mimetype": "text/x-python",
   "name": "python",
   "nbconvert_exporter": "python",
   "pygments_lexer": "ipython3",
   "version": "3.8.12"
  }
 },
 "nbformat": 4,
 "nbformat_minor": 5
}
