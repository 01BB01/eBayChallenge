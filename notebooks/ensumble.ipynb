{
 "cells": [
  {
   "cell_type": "code",
   "execution_count": null,
   "id": "27202dde",
   "metadata": {},
   "outputs": [],
   "source": [
    "import torch\n",
    "import pandas as pd"
   ]
  },
  {
   "cell_type": "code",
   "execution_count": null,
   "id": "85585da4",
   "metadata": {},
   "outputs": [],
   "source": [
    "import matplotlib.pyplot as plt"
   ]
  },
  {
   "cell_type": "code",
   "execution_count": null,
   "id": "e89fecfc",
   "metadata": {},
   "outputs": [],
   "source": [
    "convnext_sim = torch.load(\"convnext_dist.pth\")"
   ]
  },
  {
   "cell_type": "code",
   "execution_count": null,
   "id": "a6b3cf83",
   "metadata": {},
   "outputs": [],
   "source": [
    "swin_sim = torch.load(\"swin_dist.pth\")"
   ]
  },
  {
   "cell_type": "code",
   "execution_count": null,
   "id": "b93ea020",
   "metadata": {},
   "outputs": [],
   "source": [
    "diff_sim = convnext_sim[\"cosine\"] - swin_sim[\"cosine\"]"
   ]
  },
  {
   "cell_type": "code",
   "execution_count": null,
   "id": "5ac07a23",
   "metadata": {},
   "outputs": [],
   "source": [
    "sum_sim = convnext_sim[\"cosine\"] + swin_sim[\"cosine\"]"
   ]
  },
  {
   "cell_type": "code",
   "execution_count": null,
   "id": "31bdb5e0",
   "metadata": {},
   "outputs": [],
   "source": [
    "query_uuid = convnext_sim[\"query_uuid\"]\n",
    "index_uuid = convnext_sim[\"index_uuid\"]"
   ]
  },
  {
   "cell_type": "code",
   "execution_count": null,
   "id": "6057abde",
   "metadata": {},
   "outputs": [],
   "source": [
    "_, pred_indices = torch.topk(sum_sim, k=10, dim=1, largest=True, sorted=True)\n",
    "\n",
    "df = pd.DataFrame(zip(query_uuid, pred_indices.cpu().numpy()))\n",
    "df[1] = df[1].apply(lambda x: \" \".join([index_uuid[i] for i in x]))\n",
    "df.to_csv(\n",
    "    \"predictions.csv\",\n",
    "    index=False,\n",
    "    header=False,\n",
    ")"
   ]
  },
  {
   "cell_type": "code",
   "execution_count": null,
   "id": "4a843613",
   "metadata": {},
   "outputs": [],
   "source": [
    "!ls"
   ]
  },
  {
   "cell_type": "code",
   "execution_count": null,
   "id": "7bc05b26",
   "metadata": {},
   "outputs": [],
   "source": []
  }
 ],
 "metadata": {
  "kernelspec": {
   "display_name": "Python 3 (ipykernel)",
   "language": "python",
   "name": "python3"
  },
  "language_info": {
   "codemirror_mode": {
    "name": "ipython",
    "version": 3
   },
   "file_extension": ".py",
   "mimetype": "text/x-python",
   "name": "python",
   "nbconvert_exporter": "python",
   "pygments_lexer": "ipython3",
   "version": "3.8.12"
  }
 },
 "nbformat": 4,
 "nbformat_minor": 5
}
